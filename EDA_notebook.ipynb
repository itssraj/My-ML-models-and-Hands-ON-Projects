{
  "cells": [
    {
      "cell_type": "markdown",
      "metadata": {
        "id": "view-in-github",
        "colab_type": "text"
      },
      "source": [
        "<a href=\"https://colab.research.google.com/github/itssraj/github-my-projects/blob/main/EDA_notebook.ipynb\" target=\"_parent\"><img src=\"https://colab.research.google.com/assets/colab-badge.svg\" alt=\"Open In Colab\"/></a>"
      ]
    },
    {
      "cell_type": "code",
      "id": "0ecd50ed",
      "metadata": {
        "vscode": {
          "languageId": "plaintext"
        },
        "ExecuteTime": {
          "end_time": "2025-10-07T18:07:17.859786Z",
          "start_time": "2025-10-07T18:07:17.852409Z"
        },
        "id": "0ecd50ed"
      },
      "source": [
        "import pandas as pd\n",
        "import numpy as np\n"
      ],
      "outputs": [],
      "execution_count": null
    },
    {
      "cell_type": "code",
      "source": [
        "import seaborn as sns\n",
        "import matplotlib.pyplot as plt\n"
      ],
      "metadata": {
        "id": "ANQETxiO37-Q"
      },
      "id": "ANQETxiO37-Q",
      "execution_count": null,
      "outputs": []
    },
    {
      "cell_type": "code",
      "source": [
        "data = pd.read_csv('data.csv')"
      ],
      "metadata": {
        "id": "FPqASiyW4B-P"
      },
      "id": "FPqASiyW4B-P",
      "execution_count": null,
      "outputs": []
    }
  ],
  "metadata": {
    "language_info": {
      "name": "python"
    },
    "colab": {
      "provenance": [],
      "include_colab_link": true
    }
  },
  "nbformat": 4,
  "nbformat_minor": 5
}